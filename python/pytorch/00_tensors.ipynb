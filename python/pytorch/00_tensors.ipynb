{
 "cells": [
  {
   "cell_type": "code",
   "execution_count": 50,
   "metadata": {},
   "outputs": [],
   "source": [
    "import torch\n",
    "import numpy as np"
   ]
  },
  {
   "cell_type": "markdown",
   "metadata": {},
   "source": [
    "### Tensors\n",
    "\n",
    "Initialization:"
   ]
  },
  {
   "cell_type": "code",
   "execution_count": 51,
   "metadata": {},
   "outputs": [
    {
     "name": "stdout",
     "output_type": "stream",
     "text": [
      "tensor([[1, 2, 3],\n",
      "        [4, 5, 6]])\n",
      "tensor([[1, 2, 3],\n",
      "        [4, 5, 6]])\n",
      "tensor([[1, 1, 1],\n",
      "        [1, 1, 1]])\n",
      "tensor([[0.3816, 0.1257, 0.5065],\n",
      "        [0.4432, 0.4455, 0.1324]])\n"
     ]
    }
   ],
   "source": [
    "# From list\n",
    "\n",
    "data = [[1,2,3], [4,5,6]]\n",
    "x_data = torch.tensor(data)\n",
    "\n",
    "print(x_data)\n",
    "\n",
    "# From numpy\n",
    "\n",
    "np_data = np.array(data)\n",
    "x_np = torch.from_numpy(np_data)\n",
    "\n",
    "print(x_np)\n",
    "\n",
    "# From tensor\n",
    "\n",
    "x_ones = torch.ones_like(x_data)\n",
    "print(x_ones)\n",
    "\n",
    "x_rand = torch.rand_like(x_data, dtype=torch.float)\n",
    "print(x_rand)\n"
   ]
  },
  {
   "cell_type": "markdown",
   "metadata": {},
   "source": [
    "Define from `shape`:"
   ]
  },
  {
   "cell_type": "code",
   "execution_count": 52,
   "metadata": {},
   "outputs": [
    {
     "name": "stdout",
     "output_type": "stream",
     "text": [
      "tensor([[1., 1., 1.],\n",
      "        [1., 1., 1.]])\n",
      "tensor([[0.9837, 0.0264, 0.8687],\n",
      "        [0.1093, 0.8314, 0.4055]])\n",
      "tensor([[0., 0., 0.],\n",
      "        [0., 0., 0.]])\n",
      "tensor([[[1., 1., 1.],\n",
      "         [1., 1., 1.]],\n",
      "\n",
      "        [[1., 1., 1.],\n",
      "         [1., 1., 1.]]])\n"
     ]
    }
   ],
   "source": [
    "shape = (2,3)\n",
    "\n",
    "ones_tensor = torch.ones(shape)\n",
    "print(ones_tensor)\n",
    "\n",
    "rand_tensor = torch.rand(shape)\n",
    "print(rand_tensor)\n",
    "\n",
    "zeros_tensor = torch.zeros(shape)\n",
    "print(zeros_tensor)\n",
    "\n",
    "# ------------------------------------\n",
    "\n",
    "shape_3D = (2,2,3)\n",
    "\n",
    "ones_tensor_3D = torch.ones(shape_3D)\n",
    "print(ones_tensor_3D)"
   ]
  },
  {
   "cell_type": "markdown",
   "metadata": {},
   "source": [
    "Attributes of a tensor:"
   ]
  },
  {
   "cell_type": "code",
   "execution_count": 53,
   "metadata": {},
   "outputs": [
    {
     "name": "stdout",
     "output_type": "stream",
     "text": [
      "torch.Size([3, 4])\n",
      "torch.float32\n",
      "cpu\n"
     ]
    }
   ],
   "source": [
    "my_tensor = torch.rand(3,4)\n",
    "\n",
    "print(my_tensor.shape)\n",
    "print(my_tensor.dtype)\n",
    "print(my_tensor.device)\n"
   ]
  },
  {
   "cell_type": "markdown",
   "metadata": {},
   "source": [
    "### Device\n",
    "\n",
    "Move tensors to GPU:"
   ]
  },
  {
   "cell_type": "code",
   "execution_count": 54,
   "metadata": {},
   "outputs": [
    {
     "data": {
      "text/plain": [
       "device(type='cuda', index=0)"
      ]
     },
     "execution_count": 54,
     "metadata": {},
     "output_type": "execute_result"
    }
   ],
   "source": [
    "if torch.accelerator.is_available():\n",
    "    my_tensor = my_tensor.to(torch.accelerator.current_accelerator())\n",
    "\n",
    "my_tensor.device"
   ]
  },
  {
   "cell_type": "markdown",
   "metadata": {},
   "source": [
    "### Basic operations\n",
    "\n",
    "Indexing and slicing are similar to NumPy API:"
   ]
  },
  {
   "cell_type": "code",
   "execution_count": 55,
   "metadata": {},
   "outputs": [
    {
     "name": "stdout",
     "output_type": "stream",
     "text": [
      "First row:  tensor([0.3744, 0.0514, 0.2590, 0.4637], device='cuda:0')\n",
      "First column:  tensor([0.3744, 0.7156, 0.9341], device='cuda:0')\n",
      "First column:  tensor([0.3744, 0.7156, 0.9341], device='cuda:0')\n",
      "Last column:  tensor([0.4637, 0.3124, 0.6661], device='cuda:0')\n",
      "Last column:  tensor([0.4637, 0.3124, 0.6661], device='cuda:0')\n"
     ]
    },
    {
     "data": {
      "text/plain": [
       "tensor([[0.3744, 0.0514, 0.2590, 0.4637],\n",
       "        [0.7156, 0.9893, 0.3032, 0.3124],\n",
       "        [0.9341, 0.4510, 0.2527, 0.6661]], device='cuda:0')"
      ]
     },
     "execution_count": 55,
     "metadata": {},
     "output_type": "execute_result"
    }
   ],
   "source": [
    "print('First row: ', my_tensor[0])\n",
    "print('First column: ', my_tensor[:, 0])\n",
    "print('First column: ', my_tensor[..., 0])\n",
    "print('Last column: ', my_tensor[:, -1])\n",
    "print('Last column: ', my_tensor[..., -1])\n",
    "\n",
    "my_tensor"
   ]
  },
  {
   "cell_type": "markdown",
   "metadata": {},
   "source": [
    "Concatenation:"
   ]
  },
  {
   "cell_type": "code",
   "execution_count": 56,
   "metadata": {},
   "outputs": [
    {
     "name": "stdout",
     "output_type": "stream",
     "text": [
      "tensor([[0.0000, 0.0000, 0.0000],\n",
      "        [0.0000, 0.0000, 0.0000],\n",
      "        [1.0000, 1.0000, 1.0000],\n",
      "        [1.0000, 1.0000, 1.0000],\n",
      "        [0.3783, 0.9479, 0.2598],\n",
      "        [0.4806, 0.8983, 0.4893]], device='cuda:0')\n",
      "tensor([[0.0000, 0.0000, 0.0000, 1.0000, 1.0000, 1.0000, 0.3783, 0.9479, 0.2598],\n",
      "        [0.0000, 0.0000, 0.0000, 1.0000, 1.0000, 1.0000, 0.4806, 0.8983, 0.4893]],\n",
      "       device='cuda:0')\n"
     ]
    }
   ],
   "source": [
    "t0 = torch.zeros(2,3).to(torch.accelerator.current_accelerator())\n",
    "t1 = torch.ones(2,3).to(torch.accelerator.current_accelerator())\n",
    "t2 = torch.rand(2,3).to(torch.accelerator.current_accelerator())\n",
    "\n",
    "t3 = torch.cat([t0, t1, t2], dim=0)\n",
    "print(t3)\n",
    "\n",
    "t4 = torch.cat([t0, t1, t2], dim=1)\n",
    "print(t4)"
   ]
  },
  {
   "cell_type": "markdown",
   "metadata": {},
   "source": [
    "Flatten:"
   ]
  },
  {
   "cell_type": "code",
   "execution_count": 57,
   "metadata": {},
   "outputs": [
    {
     "data": {
      "text/plain": [
       "tensor([0.0000, 0.0000, 0.0000, 0.0000, 0.0000, 0.0000, 1.0000, 1.0000, 1.0000,\n",
       "        1.0000, 1.0000, 1.0000, 0.3783, 0.9479, 0.2598, 0.4806, 0.8983, 0.4893],\n",
       "       device='cuda:0')"
      ]
     },
     "execution_count": 57,
     "metadata": {},
     "output_type": "execute_result"
    }
   ],
   "source": [
    "t3.flatten()"
   ]
  },
  {
   "cell_type": "markdown",
   "metadata": {},
   "source": [
    "### Arithmetic operations"
   ]
  },
  {
   "cell_type": "code",
   "execution_count": 58,
   "metadata": {},
   "outputs": [
    {
     "name": "stdout",
     "output_type": "stream",
     "text": [
      "tensor([[0.5754, 0.6442, 0.3536],\n",
      "        [0.3857, 0.3299, 0.1886]])\n",
      "tensor([[0.5754, 0.3857],\n",
      "        [0.6442, 0.3299],\n",
      "        [0.3536, 0.1886]])\n",
      "tensor([[0.8711, 0.5012],\n",
      "        [0.5012, 0.2932]])\n",
      "tensor([[0.8711, 0.5012],\n",
      "        [0.5012, 0.2932]])\n",
      "tensor([[0.8711, 0.5012],\n",
      "        [0.5012, 0.2932]])\n",
      "tensor([[0.3311, 0.4150, 0.1250],\n",
      "        [0.1488, 0.1088, 0.0356]])\n",
      "tensor([[0.3311, 0.4150, 0.1250],\n",
      "        [0.1488, 0.1088, 0.0356]])\n",
      "tensor([[0.3311, 0.4150, 0.1250],\n",
      "        [0.1488, 0.1088, 0.0356]])\n"
     ]
    }
   ],
   "source": [
    "tensor = torch.rand(2,3)\n",
    "\n",
    "print(tensor)\n",
    "\n",
    "# Transpose\n",
    "print(tensor.T)\n",
    "\n",
    "# Matrix multiplication\n",
    "y1 = tensor @ tensor.T\n",
    "print(y1)\n",
    "\n",
    "y2 = tensor.matmul(tensor.T)\n",
    "print(y2)\n",
    "\n",
    "y3 = torch.rand_like(y1)\n",
    "torch.matmul(tensor, tensor.T, out=y3)\n",
    "print(y3)\n",
    "\n",
    "# Element-wise product\n",
    "z1 = tensor * tensor\n",
    "print(z1)\n",
    "\n",
    "z2 = tensor.mul(tensor)\n",
    "print(z2)\n",
    "\n",
    "z3 = torch.rand_like(tensor)\n",
    "torch.mul(tensor, tensor, out=z3)\n",
    "print(z3)"
   ]
  },
  {
   "cell_type": "markdown",
   "metadata": {},
   "source": [
    "Single-element tensors and how to convert them to numerical values:"
   ]
  },
  {
   "cell_type": "code",
   "execution_count": 59,
   "metadata": {},
   "outputs": [
    {
     "name": "stdout",
     "output_type": "stream",
     "text": [
      "<class 'torch.Tensor'>\n",
      "<class 'float'>\n"
     ]
    }
   ],
   "source": [
    "tensor = torch.ones(2,3)\n",
    "\n",
    "agg = tensor.sum()\n",
    "print(type(agg))\n",
    "\n",
    "agg_item = agg.item()\n",
    "print(type(agg_item))"
   ]
  },
  {
   "cell_type": "markdown",
   "metadata": {},
   "source": [
    "In-place operations (denoted by suffix `_`). Their use is discouraged:"
   ]
  },
  {
   "cell_type": "code",
   "execution_count": 60,
   "metadata": {},
   "outputs": [
    {
     "name": "stdout",
     "output_type": "stream",
     "text": [
      "tensor([[1., 1., 1.],\n",
      "        [1., 1., 1.]])\n",
      "tensor([[6., 6., 6.],\n",
      "        [6., 6., 6.]])\n"
     ]
    }
   ],
   "source": [
    "print(tensor)\n",
    "tensor.add_(5)\n",
    "print(tensor)"
   ]
  },
  {
   "cell_type": "markdown",
   "metadata": {},
   "source": [
    "### Bridge with NumPy\n",
    "\n",
    "Tensor to NumPy array:"
   ]
  },
  {
   "cell_type": "code",
   "execution_count": 62,
   "metadata": {},
   "outputs": [
    {
     "name": "stdout",
     "output_type": "stream",
     "text": [
      "tensor([1., 1., 1., 1., 1.])\n",
      "[1. 1. 1. 1. 1.]\n",
      "tensor([2., 2., 2., 2., 2.])\n",
      "[2. 2. 2. 2. 2.]\n"
     ]
    }
   ],
   "source": [
    "t = torch.ones(5)\n",
    "print(t)\n",
    "\n",
    "n = t.numpy()\n",
    "print(n)"
   ]
  },
  {
   "cell_type": "markdown",
   "metadata": {},
   "source": [
    "\n",
    "A change in the tensor reflects in the NumPy array:\n"
   ]
  },
  {
   "cell_type": "code",
   "execution_count": null,
   "metadata": {},
   "outputs": [],
   "source": [
    "t.add_(1)\n",
    "print(t)\n",
    "print(n)"
   ]
  },
  {
   "cell_type": "markdown",
   "metadata": {},
   "source": [
    "NumPy array to Tensor:"
   ]
  },
  {
   "cell_type": "code",
   "execution_count": 66,
   "metadata": {},
   "outputs": [
    {
     "name": "stdout",
     "output_type": "stream",
     "text": [
      "tensor([2., 2., 2., 2., 2.], dtype=torch.float64)\n",
      "[2. 2. 2. 2. 2.]\n"
     ]
    }
   ],
   "source": [
    "n = np.ones(5)\n",
    "t = torch.from_numpy(n)\n",
    "\n",
    "np.add(n, 1, out=n)\n",
    "print(t)\n",
    "print(n)"
   ]
  }
 ],
 "metadata": {
  "kernelspec": {
   "display_name": ".venv",
   "language": "python",
   "name": "python3"
  },
  "language_info": {
   "codemirror_mode": {
    "name": "ipython",
    "version": 3
   },
   "file_extension": ".py",
   "mimetype": "text/x-python",
   "name": "python",
   "nbconvert_exporter": "python",
   "pygments_lexer": "ipython3",
   "version": "3.10.12"
  }
 },
 "nbformat": 4,
 "nbformat_minor": 2
}
