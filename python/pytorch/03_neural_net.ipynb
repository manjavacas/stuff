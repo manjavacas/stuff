{
 "cells": [
  {
   "cell_type": "code",
   "execution_count": 2,
   "metadata": {},
   "outputs": [
    {
     "name": "stdout",
     "output_type": "stream",
     "text": [
      "Using cuda device\n"
     ]
    }
   ],
   "source": [
    "import os\n",
    "import torch\n",
    "\n",
    "from torch import nn\n",
    "from torch.utils.data import DataLoader\n",
    "from torchvision import datasets, transforms\n",
    "\n",
    "device = torch.accelerator.current_accelerator().type if torch.accelerator.is_available() else 'cpu'\n",
    "print(f'Using {device} device')"
   ]
  },
  {
   "cell_type": "markdown",
   "metadata": {},
   "source": []
  },
  {
   "cell_type": "markdown",
   "metadata": {},
   "source": [
    "### Define neural network\n",
    "\n",
    "The neural network is defined by subclassing `nn.Module`. Every `nn.Module` subclass implements the operations on input data in the `forward` method. Method `__init__` initialize the neural network layers."
   ]
  },
  {
   "cell_type": "code",
   "execution_count": null,
   "metadata": {},
   "outputs": [
    {
     "data": {
      "text/plain": [
       "NeuralNetwork(\n",
       "  (flatten): Flatten(start_dim=1, end_dim=-1)\n",
       "  (linear_relu_stack): Sequential(\n",
       "    (0): Linear(in_features=784, out_features=512, bias=True)\n",
       "    (1): ReLU()\n",
       "    (2): Linear(in_features=512, out_features=512, bias=True)\n",
       "    (3): ReLU()\n",
       "    (4): Linear(in_features=512, out_features=10, bias=True)\n",
       "  )\n",
       ")"
      ]
     },
     "execution_count": 3,
     "metadata": {},
     "output_type": "execute_result"
    }
   ],
   "source": [
    "class NeuralNetwork(nn.Module):\n",
    "    def __init__(self):\n",
    "        super().__init__()\n",
    "        self.flatten = nn.Flatten() # converts 2D 28x28 images to array of 784 pixel values\n",
    "        self.linear_relu_stack = nn.Sequential( # ordered container of modules\n",
    "            nn.Linear(in_features=28 * 28, out_features=512), # linear transform. using stored weights and biases\n",
    "            nn.ReLU(), # non-linear activation function\n",
    "            nn.Linear(512, 512),\n",
    "            nn.ReLU(),\n",
    "            nn.Linear(512, 10)\n",
    "        )\n",
    "\n",
    "    def forward(self, x):\n",
    "        x = self.flatten(x)\n",
    "        logits = self.linear_relu_stack(x)\n",
    "        return logits\n",
    "    \n",
    "model = NeuralNetwork().to(device)\n",
    "model"
   ]
  },
  {
   "cell_type": "markdown",
   "metadata": {},
   "source": [
    "### Using the model"
   ]
  },
  {
   "cell_type": "code",
   "execution_count": 6,
   "metadata": {},
   "outputs": [
    {
     "name": "stdout",
     "output_type": "stream",
     "text": [
      "Predicted class:  3\n"
     ]
    }
   ],
   "source": [
    "X = torch.rand(1, 28, 28, device=device)\n",
    "\n",
    "logits = model(X)\n",
    "pred_values = nn.Softmax(dim=1)(logits)\n",
    "y_pred = pred_values.argmax(1)\n",
    "\n",
    "print('Predicted class: ', y_pred.item())"
   ]
  },
  {
   "cell_type": "markdown",
   "metadata": {},
   "source": [
    "### Layer by layer"
   ]
  },
  {
   "cell_type": "markdown",
   "metadata": {},
   "source": [
    " We define a minibatch of 3 images of size 28*28:"
   ]
  },
  {
   "cell_type": "code",
   "execution_count": 15,
   "metadata": {},
   "outputs": [
    {
     "name": "stdout",
     "output_type": "stream",
     "text": [
      "Input image size:  torch.Size([3, 28, 28])\n"
     ]
    }
   ],
   "source": [
    "input_image = torch.rand(3,28,28)\n",
    "print('Input image size: ', input_image.size())"
   ]
  },
  {
   "cell_type": "markdown",
   "metadata": {},
   "source": [
    "`Flatten` converts the image to an array of 784 pixel values. The minibatch dimension is maintained:"
   ]
  },
  {
   "cell_type": "code",
   "execution_count": 20,
   "metadata": {},
   "outputs": [
    {
     "name": "stdout",
     "output_type": "stream",
     "text": [
      "Flat image size:  torch.Size([3, 784])\n"
     ]
    }
   ],
   "source": [
    "flatten = nn.Flatten()\n",
    "flat_image = flatten(input_image)\n",
    "print('Flat image size: ', flat_image.size())"
   ]
  },
  {
   "cell_type": "markdown",
   "metadata": {},
   "source": [
    "`Linear` applies a linear transformation on the input using its stored weights and biases:"
   ]
  },
  {
   "cell_type": "code",
   "execution_count": 23,
   "metadata": {},
   "outputs": [
    {
     "name": "stdout",
     "output_type": "stream",
     "text": [
      "Size after linear transformation:  torch.Size([3, 20])\n"
     ]
    }
   ],
   "source": [
    "layer1 = nn.Linear(in_features=28*28, out_features=20)\n",
    "hidden1 = layer1(flat_image)\n",
    "print('Size after linear transformation: ', hidden1.size())"
   ]
  },
  {
   "cell_type": "markdown",
   "metadata": {},
   "source": [
    "`ReLU` applies a non-linear transformation:"
   ]
  },
  {
   "cell_type": "code",
   "execution_count": 24,
   "metadata": {},
   "outputs": [
    {
     "name": "stdout",
     "output_type": "stream",
     "text": [
      "Before ReLU:  tensor([[-0.3923, -0.1192,  0.1887, -0.1081, -0.3248, -0.0498,  0.1780,  0.6743,\n",
      "         -0.9071,  0.7844, -0.3542, -0.1603, -0.0810, -0.0984, -0.1905,  0.1194,\n",
      "         -0.2885,  0.7343,  0.1375, -0.2281],\n",
      "        [-0.4743, -0.1854,  0.0558, -0.5121, -0.2195,  0.0453,  0.1522, -0.0744,\n",
      "         -0.9550,  0.4418, -0.4480, -0.3307, -0.3327, -0.0805, -0.3292, -0.2323,\n",
      "         -0.2693,  0.5589, -0.0204, -0.1819],\n",
      "        [-0.5580, -0.4201,  0.1537, -0.1968, -0.2932,  0.1267, -0.0822,  0.4221,\n",
      "         -0.6883,  0.5122, -0.5465, -0.2546, -0.1018, -0.0270, -0.4054, -0.2970,\n",
      "         -0.5301,  0.6463, -0.1101, -0.1448]], grad_fn=<AddmmBackward0>)\n",
      "After ReLU:  tensor([[0.0000, 0.0000, 0.1887, 0.0000, 0.0000, 0.0000, 0.1780, 0.6743, 0.0000,\n",
      "         0.7844, 0.0000, 0.0000, 0.0000, 0.0000, 0.0000, 0.1194, 0.0000, 0.7343,\n",
      "         0.1375, 0.0000],\n",
      "        [0.0000, 0.0000, 0.0558, 0.0000, 0.0000, 0.0453, 0.1522, 0.0000, 0.0000,\n",
      "         0.4418, 0.0000, 0.0000, 0.0000, 0.0000, 0.0000, 0.0000, 0.0000, 0.5589,\n",
      "         0.0000, 0.0000],\n",
      "        [0.0000, 0.0000, 0.1537, 0.0000, 0.0000, 0.1267, 0.0000, 0.4221, 0.0000,\n",
      "         0.5122, 0.0000, 0.0000, 0.0000, 0.0000, 0.0000, 0.0000, 0.0000, 0.6463,\n",
      "         0.0000, 0.0000]], grad_fn=<ReluBackward0>)\n"
     ]
    }
   ],
   "source": [
    "print('Before ReLU: ', hidden1)\n",
    "hidden1 = nn.ReLU()(hidden1)\n",
    "print('After ReLU: ', hidden1)"
   ]
  },
  {
   "cell_type": "markdown",
   "metadata": {},
   "source": [
    "`Sequential` is an ordered container of modules:"
   ]
  },
  {
   "cell_type": "code",
   "execution_count": 26,
   "metadata": {},
   "outputs": [
    {
     "data": {
      "text/plain": [
       "tensor([[ 0.1844,  0.1351,  0.3032, -0.0150,  0.0045, -0.0107,  0.0497, -0.4107,\n",
       "          0.3296, -0.0487],\n",
       "        [ 0.1987,  0.1266,  0.3192, -0.0276, -0.0069, -0.0661,  0.0207, -0.3959,\n",
       "          0.3263, -0.0914],\n",
       "        [ 0.1601,  0.0806,  0.2718,  0.0573,  0.0143, -0.0337,  0.0384, -0.4255,\n",
       "          0.2913, -0.0039]], grad_fn=<AddmmBackward0>)"
      ]
     },
     "execution_count": 26,
     "metadata": {},
     "output_type": "execute_result"
    }
   ],
   "source": [
    "seq_modules = nn.Sequential(\n",
    "    flatten,\n",
    "    layer1,\n",
    "    nn.ReLU(),\n",
    "    nn.Linear(20,10)\n",
    ")\n",
    "\n",
    "input_image = torch.rand(3, 28, 28)\n",
    "logits = seq_modules(input_image)\n",
    "logits"
   ]
  },
  {
   "cell_type": "markdown",
   "metadata": {},
   "source": [
    "`Softmax` returns logits (raw values in [-infinity, infinity]). These are scales to [0,1], representing the \"model's predicted probabilities\" for each class."
   ]
  },
  {
   "cell_type": "code",
   "execution_count": null,
   "metadata": {},
   "outputs": [
    {
     "data": {
      "text/plain": [
       "tensor([[0.1120, 0.1066, 0.1261, 0.0917, 0.0936, 0.0921, 0.0979, 0.0618, 0.1295,\n",
       "         0.0887],\n",
       "        [0.1148, 0.1068, 0.1295, 0.0916, 0.0935, 0.0881, 0.0961, 0.0633, 0.1304,\n",
       "         0.0859],\n",
       "        [0.1103, 0.1019, 0.1234, 0.0996, 0.0954, 0.0909, 0.0977, 0.0614, 0.1258,\n",
       "         0.0936]], grad_fn=<SoftmaxBackward0>)"
      ]
     },
     "execution_count": 28,
     "metadata": {},
     "output_type": "execute_result"
    }
   ],
   "source": [
    "softmax = nn.Softmax(dim=1)\n",
    "pred_values = softmax(logits)\n",
    "pred_values # all must sum to 1"
   ]
  },
  {
   "cell_type": "markdown",
   "metadata": {},
   "source": [
    "`argmax` provides the greatest values for each image:"
   ]
  },
  {
   "cell_type": "code",
   "execution_count": 32,
   "metadata": {},
   "outputs": [
    {
     "data": {
      "text/plain": [
       "tensor([8, 8, 8])"
      ]
     },
     "execution_count": 32,
     "metadata": {},
     "output_type": "execute_result"
    }
   ],
   "source": [
    "pred_values.argmax(dim=1)"
   ]
  },
  {
   "cell_type": "markdown",
   "metadata": {},
   "source": [
    "### Model parameters\n",
    "\n",
    "We can check the model parameters and structure:"
   ]
  },
  {
   "cell_type": "code",
   "execution_count": 34,
   "metadata": {},
   "outputs": [
    {
     "data": {
      "text/plain": [
       "NeuralNetwork(\n",
       "  (flatten): Flatten(start_dim=1, end_dim=-1)\n",
       "  (linear_relu_stack): Sequential(\n",
       "    (0): Linear(in_features=784, out_features=512, bias=True)\n",
       "    (1): ReLU()\n",
       "    (2): Linear(in_features=512, out_features=512, bias=True)\n",
       "    (3): ReLU()\n",
       "    (4): Linear(in_features=512, out_features=10, bias=True)\n",
       "  )\n",
       ")"
      ]
     },
     "execution_count": 34,
     "metadata": {},
     "output_type": "execute_result"
    }
   ],
   "source": [
    "model"
   ]
  },
  {
   "cell_type": "code",
   "execution_count": 36,
   "metadata": {},
   "outputs": [
    {
     "name": "stdout",
     "output_type": "stream",
     "text": [
      "Layer : linear_relu_stack.0.weight | Size : torch.Size([512, 784]) | Values : tensor([[-0.0225, -0.0345, -0.0100,  ..., -0.0295,  0.0084,  0.0331],\n",
      "        [ 0.0316,  0.0332, -0.0155,  ..., -0.0191,  0.0252,  0.0142]],\n",
      "       device='cuda:0', grad_fn=<SliceBackward0>)\n",
      "\n",
      "Layer : linear_relu_stack.0.bias | Size : torch.Size([512]) | Values : tensor([-0.0192, -0.0015], device='cuda:0', grad_fn=<SliceBackward0>)\n",
      "\n",
      "Layer : linear_relu_stack.2.weight | Size : torch.Size([512, 512]) | Values : tensor([[-0.0352,  0.0106, -0.0177,  ...,  0.0342,  0.0129, -0.0091],\n",
      "        [ 0.0375, -0.0296, -0.0333,  ..., -0.0047,  0.0271, -0.0410]],\n",
      "       device='cuda:0', grad_fn=<SliceBackward0>)\n",
      "\n",
      "Layer : linear_relu_stack.2.bias | Size : torch.Size([512]) | Values : tensor([ 0.0187, -0.0039], device='cuda:0', grad_fn=<SliceBackward0>)\n",
      "\n",
      "Layer : linear_relu_stack.4.weight | Size : torch.Size([10, 512]) | Values : tensor([[-0.0054,  0.0228, -0.0079,  ...,  0.0115,  0.0318, -0.0103],\n",
      "        [ 0.0312, -0.0431, -0.0010,  ..., -0.0333, -0.0032,  0.0048]],\n",
      "       device='cuda:0', grad_fn=<SliceBackward0>)\n",
      "\n",
      "Layer : linear_relu_stack.4.bias | Size : torch.Size([10]) | Values : tensor([ 0.0392, -0.0048], device='cuda:0', grad_fn=<SliceBackward0>)\n",
      "\n"
     ]
    }
   ],
   "source": [
    "for name, param in model.named_parameters():\n",
    "    print(f'Layer : {name} | Size : {param.size()} | Values : {param[:2]}\\n')"
   ]
  }
 ],
 "metadata": {
  "kernelspec": {
   "display_name": ".venv",
   "language": "python",
   "name": "python3"
  },
  "language_info": {
   "codemirror_mode": {
    "name": "ipython",
    "version": 3
   },
   "file_extension": ".py",
   "mimetype": "text/x-python",
   "name": "python",
   "nbconvert_exporter": "python",
   "pygments_lexer": "ipython3",
   "version": "3.10.12"
  }
 },
 "nbformat": 4,
 "nbformat_minor": 2
}
