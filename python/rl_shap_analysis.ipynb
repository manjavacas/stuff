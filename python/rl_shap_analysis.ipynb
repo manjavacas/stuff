{
 "cells": [
  {
   "cell_type": "markdown",
   "metadata": {},
   "source": [
    "# **SB3 model explainability with SHAP values**\n",
    "\n",
    "First, we load the required libraries and specify the model and datasets paths."
   ]
  },
  {
   "cell_type": "code",
   "execution_count": null,
   "metadata": {},
   "outputs": [],
   "source": [
    "import shap\n",
    "import torch\n",
    "\n",
    "import numpy as np\n",
    "\n",
    "from pandas import read_csv\n",
    "\n",
    "from stable_baselines3 import SAC\n",
    "\n",
    "MODEL_PATH = './model.zip'\n",
    "MONITOR_PATH = './monitor_norm.csv'\n",
    "PROGRESS_PATH = './progress.csv'\n",
    "\n",
    "device = torch.device('cuda' if torch.cuda.is_available() else 'cpu')"
   ]
  },
  {
   "cell_type": "markdown",
   "metadata": {},
   "source": [
    "The SB3 agent is loaded. Every observation is composed by 82 floating point values, while actions are arrays of 6 values in `[-1,1]`."
   ]
  },
  {
   "cell_type": "code",
   "execution_count": null,
   "metadata": {},
   "outputs": [],
   "source": [
    "agent = SAC.load(MODEL_PATH)\n",
    "\n",
    "print(f'Observation space: {agent.observation_space}')\n",
    "print(f'Action space: {agent.action_space}')"
   ]
  },
  {
   "cell_type": "markdown",
   "metadata": {},
   "source": [
    "We load the dataset and pre-visualize it."
   ]
  },
  {
   "cell_type": "code",
   "execution_count": null,
   "metadata": {},
   "outputs": [],
   "source": [
    "monitor = read_csv(MONITOR_PATH)\n",
    "monitor.head()"
   ]
  },
  {
   "cell_type": "markdown",
   "metadata": {},
   "source": [
    "Those columns/variables not perceived by the agent during training are removed. Rows with `NaN` are also dropped."
   ]
  },
  {
   "cell_type": "code",
   "execution_count": null,
   "metadata": {},
   "outputs": [],
   "source": [
    "to_remove = ['timestep', 'reward', 'reward_energy_term', 'reward_comfort_term', 'time (hours)',\n",
    "             'absolute_energy_penalty', 'absolute_comfort_penalty', 'terminated',\n",
    "             'truncated', 'total_temperature_violation', 'flow_livroom', 'total_power_demand',\n",
    "             'flow_kitchen', 'flow_bed1', 'flow_bed2', 'flow_bed3', 'water_temperature']\n",
    "\n",
    "data = monitor.drop(columns=to_remove).dropna()\n",
    "\n",
    "data.head()"
   ]
  },
  {
   "cell_type": "markdown",
   "metadata": {},
   "source": [
    "Once the dataset and the model are both ready, we test them by doing some sample predictions."
   ]
  },
  {
   "cell_type": "code",
   "execution_count": null,
   "metadata": {},
   "outputs": [],
   "source": [
    "def model_predict(data, model): \n",
    "    data_tensor = torch.tensor(data.values, dtype=torch.float32).to(device)\n",
    "    with torch.no_grad():\n",
    "        actions = model(data_tensor)\n",
    "    return actions.cpu()\n",
    "\n",
    "model_predict(data[:5], agent.policy)"
   ]
  },
  {
   "cell_type": "markdown",
   "metadata": {},
   "source": [
    "Now we will calculate the corresponding SHAP values. \n",
    "\n",
    "The `SACPolicyWrapper` class redefines the model, providing a single-vector output instead of a tuple.\n",
    "\n",
    "We use a `KernelExplainer`, which is quite robust and model-agnostic.\n",
    "\n"
   ]
  },
  {
   "cell_type": "code",
   "execution_count": null,
   "metadata": {},
   "outputs": [],
   "source": [
    "SHAP_SAMPLES = 500\n",
    "\n",
    "# def to_hash(action):\n",
    "#     hashes = []\n",
    "#     for a in action:\n",
    "#         hashes.append(hash(tuple(a)))\n",
    "#     return np.array(hashes)\n",
    "\n",
    "class SACPolicyWrapper:\n",
    "    def __init__(self, model):\n",
    "        self.model = model\n",
    "    \n",
    "    def predict(self, obs):\n",
    "        action, _ = self.model.predict(obs, deterministic=True)\n",
    "        return action\n",
    "        # return np.mean(action, axis=1) # mean\n",
    "        # return np.linalg.norm(action, axis=1) # L2 norm\n",
    "        # return to_hash(action)\n",
    "    \n",
    "\n",
    "policy_wrapper = SACPolicyWrapper(agent)\n",
    "\n",
    "def sac_policy_predict(obs):\n",
    "    return policy_wrapper.predict(obs)\n",
    "\n",
    "\n",
    "X = data.sample(n=SHAP_SAMPLES, replace=False)\n",
    "\n",
    "explainer = shap.KernelExplainer(sac_policy_predict, X)\n",
    "\n",
    "shap_values = explainer.shap_values(X)"
   ]
  },
  {
   "cell_type": "markdown",
   "metadata": {},
   "source": [
    "Once the explainer is fit and the shap values are computed, we create an `Explanation` object and plot the results..."
   ]
  },
  {
   "cell_type": "code",
   "execution_count": null,
   "metadata": {},
   "outputs": [],
   "source": [
    "# explanation = shap.Explanation(\n",
    "#     values=shap_values[:,:,1],\n",
    "#     base_values=explainer.expected_value[1],\n",
    "#     data=X,\n",
    "#     feature_names=features\n",
    "# )\n",
    "\n",
    "# shap.plots.beeswarm(explanation.abs, max_display=len(features), color='shap_red')\n",
    "# shap.plots.beeswarm(explanation.abs, color='shap_red')\n",
    "\n",
    "# shap.plots.beeswarm(explanation, max_display=len(features))\n",
    "# shap.plots.beeswarm(explanation)\n"
   ]
  },
  {
   "cell_type": "code",
   "execution_count": null,
   "metadata": {},
   "outputs": [],
   "source": [
    "features = X.columns.tolist()\n",
    "\n",
    "mean_shap_values = np.mean(shap_values, axis=2)\n",
    "\n",
    "explanation = shap.Explanation(\n",
    "    values=mean_shap_values,\n",
    "    base_values=np.mean(explainer.expected_value),\n",
    "    data=X,\n",
    "    feature_names=features\n",
    ")\n",
    "\n",
    "shap.plots.beeswarm(explanation, max_display=len(features))\n"
   ]
  }
 ],
 "metadata": {
  "kernelspec": {
   "display_name": ".venv",
   "language": "python",
   "name": "python3"
  },
  "language_info": {
   "codemirror_mode": {
    "name": "ipython",
    "version": 3
   },
   "file_extension": ".py",
   "mimetype": "text/x-python",
   "name": "python",
   "nbconvert_exporter": "python",
   "pygments_lexer": "ipython3",
   "version": "3.10.12"
  }
 },
 "nbformat": 4,
 "nbformat_minor": 2
}
