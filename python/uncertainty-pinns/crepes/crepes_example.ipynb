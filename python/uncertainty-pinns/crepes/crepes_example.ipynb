{
 "cells": [
  {
   "cell_type": "code",
   "execution_count": 54,
   "metadata": {},
   "outputs": [],
   "source": [
    "from sklearn.datasets import fetch_openml\n",
    "from sklearn.model_selection import train_test_split\n",
    "\n",
    "from sklearn.ensemble import RandomForestRegressor\n",
    "\n",
    "from crepes import WrapRegressor\n",
    "from crepes.extras import DifficultyEstimator, MondrianCategorizer\n",
    "\n",
    "import numpy as np\n",
    "\n",
    "np.random.seed(602211023)"
   ]
  },
  {
   "cell_type": "markdown",
   "metadata": {},
   "source": [
    "### Carga de datos y división _train_ / _test_ / _calibration_"
   ]
  },
  {
   "cell_type": "code",
   "execution_count": 67,
   "metadata": {},
   "outputs": [
    {
     "name": "stdout",
     "output_type": "stream",
     "text": [
      "317709\n",
      "68082\n",
      "68082\n"
     ]
    }
   ],
   "source": [
    "dataset = fetch_openml(name=\"house_sales\", version=3, parser=\"auto\")\n",
    "\n",
    "X = dataset.data.values.astype(float)\n",
    "y = dataset.target.values.astype(float)\n",
    "\n",
    "y = np.array([(y[i]-y.min())/(y.max()-y.min()) for i in range(len(y))])\n",
    "\n",
    "X_train, X_test, y_train, y_test = train_test_split(X, y, test_size=0.3)\n",
    "\n",
    "X_test, X_cal, y_test, y_cal = train_test_split(X_test, y_test, test_size=0.5)\n",
    "\n",
    "print(X_train.size)\n",
    "print(X_test.size)\n",
    "print(X_cal.size)"
   ]
  },
  {
   "cell_type": "markdown",
   "metadata": {},
   "source": [
    "### Entrenar modelo"
   ]
  },
  {
   "cell_type": "code",
   "execution_count": 69,
   "metadata": {},
   "outputs": [
    {
     "data": {
      "text/plain": [
       "WrapRegressor(learner=RandomForestRegressor(n_estimators=500, n_jobs=-1, oob_score=True), calibrated=False)"
      ]
     },
     "metadata": {},
     "output_type": "display_data"
    }
   ],
   "source": [
    "rf = WrapRegressor(RandomForestRegressor(n_jobs=-1, n_estimators=500, oob_score=True))\n",
    "\n",
    "rf.fit(X_train, y_train)\n",
    "\n",
    "display(rf)\n"
   ]
  },
  {
   "cell_type": "markdown",
   "metadata": {},
   "source": [
    "### Calibrar modelo"
   ]
  },
  {
   "cell_type": "code",
   "execution_count": 70,
   "metadata": {},
   "outputs": [
    {
     "data": {
      "text/plain": [
       "WrapRegressor(learner=RandomForestRegressor(n_estimators=500, n_jobs=-1, oob_score=True), calibrated=True, predictor=ConformalRegressor(fitted=True, normalized=False, mondrian=False))"
      ]
     },
     "metadata": {},
     "output_type": "display_data"
    }
   ],
   "source": [
    "rf.calibrate(X_cal, y_cal)\n",
    "\n",
    "display(rf)"
   ]
  },
  {
   "cell_type": "markdown",
   "metadata": {},
   "source": [
    "### Regresión sobre valores de _test_"
   ]
  },
  {
   "cell_type": "code",
   "execution_count": 75,
   "metadata": {},
   "outputs": [
    {
     "data": {
      "text/plain": [
       "array([[ 0.02076212,  0.14884836],\n",
       "       [-0.00193508,  0.12615115],\n",
       "       [-0.010069  ,  0.11801724],\n",
       "       ...,\n",
       "       [ 0.01949849,  0.14758473],\n",
       "       [-0.04973273,  0.07835351],\n",
       "       [-0.01413094,  0.11395529]])"
      ]
     },
     "metadata": {},
     "output_type": "display_data"
    }
   ],
   "source": [
    "intervals = rf.predict_int(X_test, confidence=0.99)\n",
    "\n",
    "display(intervals)"
   ]
  },
  {
   "cell_type": "markdown",
   "metadata": {},
   "source": [
    "### Regresión normalizada"
   ]
  },
  {
   "cell_type": "code",
   "execution_count": 76,
   "metadata": {},
   "outputs": [
    {
     "data": {
      "text/plain": [
       "DifficultyEstimator(fitted=True, type=variance, scaler=True, beta=0.01, oob=False)"
      ]
     },
     "metadata": {},
     "output_type": "display_data"
    },
    {
     "data": {
      "text/plain": [
       "MondrianCategorizer(fitted=True, de=DifficultyEstimator(fitted=True, type=variance, scaler=True, beta=0.01, oob=False), no_bins=20)"
      ]
     },
     "metadata": {},
     "output_type": "display_data"
    },
    {
     "data": {
      "text/plain": [
       "WrapRegressor(learner=RandomForestRegressor(n_estimators=500, n_jobs=-1, oob_score=True), calibrated=True, predictor=ConformalRegressor(fitted=True, normalized=False, mondrian=True))"
      ]
     },
     "metadata": {},
     "output_type": "display_data"
    },
    {
     "data": {
      "text/plain": [
       "array([[0.06585493, 0.10375554],\n",
       "       [0.03615718, 0.08805889],\n",
       "       [0.04536713, 0.06258111],\n",
       "       ...,\n",
       "       [0.05993744, 0.10714578],\n",
       "       [0.00829137, 0.02032942],\n",
       "       [0.02658152, 0.07324283]])"
      ]
     },
     "metadata": {},
     "output_type": "display_data"
    }
   ],
   "source": [
    "learner_prop = rf.learner\n",
    "\n",
    "de_var = DifficultyEstimator()\n",
    "\n",
    "de_var.fit(X=X_train, learner=learner_prop, scaler=True)\n",
    "\n",
    "display(de_var)\n",
    "\n",
    "mc = MondrianCategorizer()\n",
    "\n",
    "mc.fit(X_cal, de=de_var, no_bins=20)\n",
    "\n",
    "display(mc)\n",
    "\n",
    "rf_mond = WrapRegressor(learner_prop)\n",
    "\n",
    "rf_mond.calibrate(X_cal, y_cal, mc=mc)\n",
    "\n",
    "display(rf_mond)\n",
    "\n",
    "intervals_mond = rf_mond.predict_int(X_test, y_min=0, y_max=1)\n",
    "\n",
    "display(intervals_mond)\n"
   ]
  }
 ],
 "metadata": {
  "kernelspec": {
   "display_name": ".venv",
   "language": "python",
   "name": "python3"
  },
  "language_info": {
   "codemirror_mode": {
    "name": "ipython",
    "version": 3
   },
   "file_extension": ".py",
   "mimetype": "text/x-python",
   "name": "python",
   "nbconvert_exporter": "python",
   "pygments_lexer": "ipython3",
   "version": "3.10.12"
  }
 },
 "nbformat": 4,
 "nbformat_minor": 2
}
