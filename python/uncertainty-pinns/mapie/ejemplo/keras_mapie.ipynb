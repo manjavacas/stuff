{
 "cells": [
  {
   "cell_type": "markdown",
   "metadata": {},
   "source": [
    "# Crear _wrapper_\n",
    "\n",
    "Creamos un _wrapper_ que modifica las salidas de un modelo **ya entrenado** para que sea compatible con el formato `numpy`:"
   ]
  },
  {
   "cell_type": "code",
   "execution_count": 31,
   "metadata": {},
   "outputs": [],
   "source": [
    "from sklearn.base import BaseEstimator, RegressorMixin\n",
    "\n",
    "class KerasRegressorWrapper(BaseEstimator, RegressorMixin):\n",
    "    def __init__(self, model):\n",
    "        self.model = model\n",
    "\n",
    "    def fit(self, X, y):\n",
    "        # Asume que el modelo ya está entrenado, por lo que no hacemos nada en fit\n",
    "        return self\n",
    "\n",
    "    def predict(self, X):\n",
    "        return self.model.predict(X).flatten()"
   ]
  },
  {
   "cell_type": "markdown",
   "metadata": {},
   "source": [
    "# Cargar modelo\n",
    "\n",
    "Cargamos el modelo ya entrenado y le aplicamos el _wrapper_:"
   ]
  },
  {
   "cell_type": "code",
   "execution_count": 32,
   "metadata": {},
   "outputs": [],
   "source": [
    "import tensorflow as tf\n",
    "from tensorflow.keras.models import load_model\n",
    "\n",
    "model_tf = load_model(\"model.keras\")\n",
    "model = KerasRegressorWrapper(model_tf)"
   ]
  },
  {
   "cell_type": "markdown",
   "metadata": {},
   "source": [
    "# Cargar datos\n",
    "\n",
    "Cargamos los datos de **calibración** y *_test_*:"
   ]
  },
  {
   "cell_type": "code",
   "execution_count": 33,
   "metadata": {},
   "outputs": [],
   "source": [
    "from sklearn.model_selection import train_test_split\n",
    "from sklearn.datasets import fetch_california_housing\n",
    "from sklearn.preprocessing import StandardScaler\n",
    "\n",
    "data = fetch_california_housing()\n",
    "X, y = data.data, data.target\n",
    "\n",
    "scaler = StandardScaler()\n",
    "X = scaler.fit_transform(X)\n",
    "\n",
    "X_cal, X_test, y_cal, y_test = train_test_split(X, y, test_size=0.2, random_state=42)\n"
   ]
  },
  {
   "cell_type": "markdown",
   "metadata": {},
   "source": [
    "# Cálculo de incertidumbre\n",
    "\n",
    "Utilizamos `MapieRegressor`para calcular los intervalos de las predicciones:"
   ]
  },
  {
   "cell_type": "code",
   "execution_count": 37,
   "metadata": {},
   "outputs": [
    {
     "name": "stdout",
     "output_type": "stream",
     "text": [
      "\u001b[1m104/104\u001b[0m \u001b[32m━━━━━━━━━━━━━━━━━━━━\u001b[0m\u001b[37m\u001b[0m \u001b[1m0s\u001b[0m 1ms/step\n",
      "\u001b[1m104/104\u001b[0m \u001b[32m━━━━━━━━━━━━━━━━━━━━\u001b[0m\u001b[37m\u001b[0m \u001b[1m0s\u001b[0m 1ms/step\n",
      "\u001b[1m104/104\u001b[0m \u001b[32m━━━━━━━━━━━━━━━━━━━━\u001b[0m\u001b[37m\u001b[0m \u001b[1m0s\u001b[0m 1ms/step\n",
      "\u001b[1m104/104\u001b[0m \u001b[32m━━━━━━━━━━━━━━━━━━━━\u001b[0m\u001b[37m\u001b[0m \u001b[1m0s\u001b[0m 1ms/step\n",
      "\u001b[1m104/104\u001b[0m \u001b[32m━━━━━━━━━━━━━━━━━━━━\u001b[0m\u001b[37m\u001b[0m \u001b[1m0s\u001b[0m 1ms/step\n",
      "\u001b[1m129/129\u001b[0m \u001b[32m━━━━━━━━━━━━━━━━━━━━\u001b[0m\u001b[37m\u001b[0m \u001b[1m0s\u001b[0m 473us/step\n",
      "\u001b[1m129/129\u001b[0m \u001b[32m━━━━━━━━━━━━━━━━━━━━\u001b[0m\u001b[37m\u001b[0m \u001b[1m0s\u001b[0m 412us/step\n",
      "\u001b[1m129/129\u001b[0m \u001b[32m━━━━━━━━━━━━━━━━━━━━\u001b[0m\u001b[37m\u001b[0m \u001b[1m0s\u001b[0m 420us/step\n",
      "\u001b[1m129/129\u001b[0m \u001b[32m━━━━━━━━━━━━━━━━━━━━\u001b[0m\u001b[37m\u001b[0m \u001b[1m0s\u001b[0m 410us/step\n",
      "\u001b[1m129/129\u001b[0m \u001b[32m━━━━━━━━━━━━━━━━━━━━\u001b[0m\u001b[37m\u001b[0m \u001b[1m0s\u001b[0m 416us/step\n",
      "\u001b[1m129/129\u001b[0m \u001b[32m━━━━━━━━━━━━━━━━━━━━\u001b[0m\u001b[37m\u001b[0m \u001b[1m0s\u001b[0m 406us/step\n"
     ]
    }
   ],
   "source": [
    "from mapie.regression import MapieRegressor\n",
    "\n",
    "mapie_regressor = MapieRegressor(estimator=model)\n",
    "\n",
    "mapie_regressor.fit(X_cal, y_cal)\n",
    "y_preds, y_intervals = mapie_regressor.predict(X_test, alpha=[0.05, 0.1])"
   ]
  },
  {
   "cell_type": "markdown",
   "metadata": {},
   "source": [
    "Vemos algunos ejemplos:"
   ]
  },
  {
   "cell_type": "code",
   "execution_count": 38,
   "metadata": {},
   "outputs": [
    {
     "name": "stdout",
     "output_type": "stream",
     "text": [
      "Predicción: 0.39 | Intervalo: [-0.63136146 -0.35770522  1.40228472  1.12862848]\t | Amplitud: [2.03364618 1.4863337 ]\n",
      "Predicción: 0.92 | Intervalo: [-0.09375629  0.17989995  1.93988988  1.66623364]\t | Amplitud: [2.03364618 1.4863337 ]\n",
      "Predicción: 4.87 | Intervalo: [3.85505077 4.12870701 5.88869695 5.6150407 ]\t | Amplitud: [2.03364618 1.4863337 ]\n",
      "Predicción: 2.73 | Intervalo: [1.71565338 1.98930962 3.74929956 3.47564332]\t | Amplitud: [2.03364618 1.4863337 ]\n",
      "Predicción: 2.68 | Intervalo: [1.66110798 1.93476422 3.69475416 3.42109792]\t | Amplitud: [2.03364618 1.4863337 ]\n"
     ]
    }
   ],
   "source": [
    "for i in range(5):\n",
    "    print(f\"Predicción: {y_preds[i]:.2f} | Intervalo: {y_intervals[i].flatten()}\\t | Amplitud: {y_intervals[i][1] - y_intervals[i][0]}\")\n"
   ]
  },
  {
   "cell_type": "markdown",
   "metadata": {},
   "source": [
    "## Código de prueba"
   ]
  },
  {
   "cell_type": "code",
   "execution_count": 36,
   "metadata": {},
   "outputs": [],
   "source": [
    "# import mapie\n",
    "# import pandas as pd\n",
    "\n",
    "# from sklearn.datasets import fetch_california_housing\n",
    "# from sklearn.model_selection import train_test_split\n",
    "\n",
    "# X, y = fetch_california_housing(return_X_y=True, as_frame=True)\n",
    "# X_train_and_cal, X_test, y_train_and_cal, y_test = train_test_split(X, y, test_size=1/3)\n",
    "\n",
    "# y_test_pred_interval = pd.DataFrame(mapie_regressor.predict(X_test, alpha=.05)[1].reshape(-1,2), index=X_test.index, columns=[\"left\", \"right\"])\n",
    "# y_test_pred_interval"
   ]
  }
 ],
 "metadata": {
  "kernelspec": {
   "display_name": ".venv",
   "language": "python",
   "name": "python3"
  },
  "language_info": {
   "codemirror_mode": {
    "name": "ipython",
    "version": 3
   },
   "file_extension": ".py",
   "mimetype": "text/x-python",
   "name": "python",
   "nbconvert_exporter": "python",
   "pygments_lexer": "ipython3",
   "version": "3.10.12"
  }
 },
 "nbformat": 4,
 "nbformat_minor": 2
}
